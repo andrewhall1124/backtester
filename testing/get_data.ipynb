{
 "cells": [
  {
   "cell_type": "code",
   "execution_count": 2,
   "metadata": {},
   "outputs": [],
   "source": [
    "import os\n",
    "import pandas as pd\n",
    "import pendulum\n",
    "import yfinance as yf"
   ]
  },
  {
   "cell_type": "code",
   "execution_count": null,
   "metadata": {},
   "outputs": [],
   "source": [
    "from alpaca.data.historical.stock import StockHistoricalDataClient\n",
    "from alpaca.data.requests import StockBarsRequest \n",
    "from alpaca.data.timeframe import TimeFrame\n",
    "from alpaca.trading.client import TradingClient\n",
    "from alpaca.trading.requests import GetAssetsRequest\n",
    "from alpaca.trading.enums import AssetStatus\n",
    "from alpaca.trading.enums import AssetClass\n",
    "from alpaca.data.enums import Adjustment\n",
    "from alpaca.data.timeframe import TimeFrameUnit"
   ]
  },
  {
   "cell_type": "code",
   "execution_count": null,
   "metadata": {},
   "outputs": [],
   "source": [
    "# Environment Variables\n",
    "api_key = os.getenv(\"ALPACA_API_KEY\")\n",
    "secret_key = os.getenv(\"ALPACA_SECRET_KEY\")\n",
    "\n",
    "# Clients\n",
    "data_client = StockHistoricalDataClient(api_key,secret_key)\n",
    "trading_client = TradingClient(api_key,secret_key)"
   ]
  },
  {
   "cell_type": "code",
   "execution_count": null,
   "metadata": {},
   "outputs": [],
   "source": [
    "asset_request = GetAssetsRequest(\n",
    "    asset_class = AssetClass.US_EQUITY,\n",
    "    status=AssetStatus.ACTIVE,\n",
    ")\n",
    "\n",
    "all_assets = trading_client.get_all_assets(asset_request)\n",
    "\n",
    "all_assets = [vars(asset) for asset in all_assets]\n",
    "\n",
    "df = pd.DataFrame(data=all_assets)\n",
    "\n",
    "df = df[df['tradable'] & df['shortable'] & df['fractionable']]\n",
    "\n",
    "data_path = \"assets.csv\"\n",
    "\n",
    "df.to_csv(data_path,index=False)"
   ]
  },
  {
   "cell_type": "code",
   "execution_count": null,
   "metadata": {},
   "outputs": [],
   "source": [
    "# Parameters\n",
    "end = pendulum.datetime(2023,12,31)\n",
    "start = pendulum.datetime(2020,12,31)\n",
    "\n",
    "symbols = pd.read_csv('assets.csv')\n",
    "symbols = symbols['symbol'].to_list()\n",
    "\n",
    "bars_request = StockBarsRequest(\n",
    "    symbol_or_symbols=symbols,\n",
    "    timeframe=TimeFrame(1,TimeFrameUnit.Day),\n",
    "    start=start,\n",
    "    end=end,\n",
    "    adjustment=Adjustment.ALL,\n",
    ")\n",
    "\n",
    "bars = data_client.get_stock_bars(bars_request)\n",
    "\n",
    "df = bars.df\n",
    "\n",
    "df = df.reset_index()\n",
    "\n",
    "\n",
    "data_path = \"data.csv\"\n",
    "\n",
    "df.to_csv(data_path,index=False)\n",
    "\n",
    "df"
   ]
  },
  {
   "cell_type": "code",
   "execution_count": 3,
   "metadata": {},
   "outputs": [
    {
     "name": "stderr",
     "output_type": "stream",
     "text": [
      "[*********************100%%**********************]  1 of 1 completed\n"
     ]
    }
   ],
   "source": [
    "bmk = yf.download('SPY', start='2021-01-01', end='2024-07-31')\n",
    "\n",
    "bmk.to_csv('bmk.csv')"
   ]
  },
  {
   "cell_type": "code",
   "execution_count": 1,
   "metadata": {},
   "outputs": [
    {
     "name": "stdout",
     "output_type": "stream",
     "text": [
      "Connection to the PostgreSQL database was successful.\n"
     ]
    }
   ],
   "source": [
    "from db import DB\n",
    "\n",
    "db = DB()\n",
    "\n",
    "df = db.get_historical_data()\n",
    "\n",
    "df.to_csv(\"data.csv\")"
   ]
  },
  {
   "cell_type": "code",
   "execution_count": null,
   "metadata": {},
   "outputs": [],
   "source": []
  }
 ],
 "metadata": {
  "kernelspec": {
   "display_name": "venv",
   "language": "python",
   "name": "python3"
  },
  "language_info": {
   "codemirror_mode": {
    "name": "ipython",
    "version": 3
   },
   "file_extension": ".py",
   "mimetype": "text/x-python",
   "name": "python",
   "nbconvert_exporter": "python",
   "pygments_lexer": "ipython3",
   "version": "3.10.12"
  }
 },
 "nbformat": 4,
 "nbformat_minor": 2
}
